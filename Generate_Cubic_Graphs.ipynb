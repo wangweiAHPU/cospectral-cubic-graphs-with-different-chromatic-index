{
 "cells": [
  {
   "cell_type": "code",
   "execution_count": 49,
   "metadata": {},
   "outputs": [],
   "source": [
    "for n in range(4,17,2):\n",
    "    gen=graphs.nauty_geng(str(n)+\" -d3 -D3\");\n",
    "    cubicgraphs=list(gen);\n",
    "    filepath=\"D:/Cubic_Graphs/cubic_graph\"+str(n)+\".g6\";\n",
    "    f=open(filepath, \"w\");\n",
    "    for k in range(len(cubicgraphs)):\n",
    "        f.write(cubicgraphs[k].graph6_string()+\"\\n\");\n",
    "    f.close();\n"
   ]
  }
 ],
 "metadata": {
  "kernelspec": {
   "display_name": "SageMath 9.2",
   "language": "sage",
   "name": "sagemath"
  },
  "language_info": {
   "codemirror_mode": {
    "name": "ipython",
    "version": 3
   },
   "file_extension": ".py",
   "mimetype": "text/x-python",
   "name": "python",
   "nbconvert_exporter": "python",
   "pygments_lexer": "ipython3",
   "version": "3.7.7"
  }
 },
 "nbformat": 4,
 "nbformat_minor": 4
}
